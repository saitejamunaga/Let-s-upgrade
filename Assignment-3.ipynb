{
 "cells": [
  {
   "cell_type": "markdown",
   "metadata": {},
   "source": [
    "# question-1:"
   ]
  },
  {
   "cell_type": "code",
   "execution_count": 2,
   "metadata": {},
   "outputs": [
    {
     "name": "stdout",
     "output_type": "stream",
     "text": [
      "[ 2  5  8 11 14 17 20 23 26 29 32 35 38 41 44 47 50]\n"
     ]
    }
   ],
   "source": [
    "import numpy as np\n",
    "a = np.arange(2,51,3)\n",
    "print(a)"
   ]
  },
  {
   "cell_type": "markdown",
   "metadata": {},
   "source": [
    "# question-2:"
   ]
  },
  {
   "cell_type": "code",
   "execution_count": 5,
   "metadata": {},
   "outputs": [
    {
     "name": "stdout",
     "output_type": "stream",
     "text": [
      "1st list elements:2\n",
      "1st list elements:3\n",
      "1st list elements:3\n",
      "1st list elements:3\n",
      "1st list elements:2\n",
      "2nd list elements:2\n",
      "2nd list elements:3\n",
      "2nd list elements:3\n",
      "2nd list elements:2\n",
      "2nd list elements:3\n",
      "[2 3 3 3 2]\n",
      "[2 3 3 2 3]\n",
      "[2 3 3 3 2 2 3 3 2 3]\n",
      "[2 2 3 3 3]\n",
      "[2 2 3 3 3]\n",
      "[2 2 2 2 3 3 3 3 3 3]\n"
     ]
    }
   ],
   "source": [
    "l1 = []\n",
    "l2 = []\n",
    "for i in range(5):\n",
    "    e1 = int(input(\"1st list elements:\"))\n",
    "    l1.append(e1)\n",
    "    a1 = np.array(l1)\n",
    "    s1 = np.sort(a1)\n",
    "    \n",
    "for i in range(5):\n",
    "    e2 = int(input(\"2nd list elements:\"))\n",
    "    l2.append(e2)\n",
    "    a2 = np.array(l2)\n",
    "    s2 = np.sort(a2)\n",
    "    \n",
    "print(a1)\n",
    "print(a2)\n",
    "c = np.concatenate((a1, a2))\n",
    "cs = np.sort(c)\n",
    "print(c)\n",
    "print(s1)\n",
    "print(s2)\n",
    "print(cs)"
   ]
  },
  {
   "cell_type": "markdown",
   "metadata": {},
   "source": [
    "# Question-3:"
   ]
  },
  {
   "cell_type": "code",
   "execution_count": null,
   "metadata": {},
   "outputs": [],
   "source": [
    "n = int(input(\"enter number of elements in array:\"))\n",
    "a = np.arange(1,n)\n",
    "print(a.ndim)\n",
    "print(a.shape)\n",
    "print(np.size(a))"
   ]
  },
  {
   "cell_type": "markdown",
   "metadata": {},
   "source": [
    "# Question-4:"
   ]
  },
  {
   "cell_type": "code",
   "execution_count": 32,
   "metadata": {
    "collapsed": true
   },
   "outputs": [
    {
     "name": "stdout",
     "output_type": "stream",
     "text": [
      "[1 2 3 4 5 6]\n",
      "[[1 2 3]\n",
      " [4 5 6]]\n",
      "[[1]\n",
      " [2]\n",
      " [3]\n",
      " [4]\n",
      " [5]\n",
      " [6]]\n",
      "[[[1]\n",
      "  [2]\n",
      "  [3]\n",
      "  [4]\n",
      "  [5]\n",
      "  [6]]]\n",
      "(1, 6, 1)\n"
     ]
    }
   ],
   "source": [
    "d1 = np.arange(1,7)\n",
    "d2= np.reshape(d1, (2, 3))\n",
    "print(d1)\n",
    "print(d2)\n",
    "a = d1[:,np.newaxis]\n",
    "a2 = np.expand_dims(a, axis=0)\n",
    "print(a)\n",
    "print(a2)\n",
    "print(a2.shape)"
   ]
  },
  {
   "cell_type": "markdown",
   "metadata": {},
   "source": [
    "# Question-5:"
   ]
  },
  {
   "cell_type": "code",
   "execution_count": 38,
   "metadata": {
    "collapsed": true
   },
   "outputs": [
    {
     "name": "stdout",
     "output_type": "stream",
     "text": [
      "[[1 2 3]\n",
      " [4 5 6]\n",
      " [7 8 9]]\n",
      "[[21 22 23]\n",
      " [24 25 26]\n",
      " [27 28 29]]\n",
      "[[ 1  2  3]\n",
      " [ 4  5  6]\n",
      " [ 7  8  9]\n",
      " [21 22 23]\n",
      " [24 25 26]\n",
      " [27 28 29]]\n",
      "[[ 1  2  3 21 22 23]\n",
      " [ 4  5  6 24 25 26]\n",
      " [ 7  8  9 27 28 29]]\n"
     ]
    }
   ],
   "source": [
    "a = np.arange(1,10)\n",
    "b = np.arange(21,30)\n",
    "a1 = np.reshape(a, (3,3))\n",
    "a2 = np.reshape(b, (3,3))\n",
    "print(a1)\n",
    "print(a2)\n",
    "v = np.vstack((a1, a2))\n",
    "h = np.hstack((a1, a2))\n",
    "print(v)\n",
    "print(h)"
   ]
  },
  {
   "cell_type": "markdown",
   "metadata": {},
   "source": [
    "# Question-6:"
   ]
  },
  {
   "cell_type": "code",
   "execution_count": 42,
   "metadata": {
    "collapsed": true
   },
   "outputs": [
    {
     "name": "stdout",
     "output_type": "stream",
     "text": [
      "enter number of elements in array:6\n",
      "element1\n",
      "element12\n",
      "element13\n",
      "element1\n",
      "element12\n",
      "element13\n",
      "[1, 12, 13, 1, 12, 13]\n",
      "[ 1 12 13]\n"
     ]
    }
   ],
   "source": [
    "\n",
    "l = []\n",
    "n = int(input(\"enter number of elements in array:\"))\n",
    "for i in range(n):\n",
    "    x = int(input(\"element\"))\n",
    "    l.append(x)\n",
    "print(l)\n",
    "u = np.unique(l)\n",
    "print(u)"
   ]
  }
 ],
 "metadata": {
  "kernelspec": {
   "display_name": "Python 3",
   "language": "python",
   "name": "python3"
  },
  "language_info": {
   "codemirror_mode": {
    "name": "ipython",
    "version": 3
   },
   "file_extension": ".py",
   "mimetype": "text/x-python",
   "name": "python",
   "nbconvert_exporter": "python",
   "pygments_lexer": "ipython3",
   "version": "3.8.3"
  }
 },
 "nbformat": 4,
 "nbformat_minor": 4
}
