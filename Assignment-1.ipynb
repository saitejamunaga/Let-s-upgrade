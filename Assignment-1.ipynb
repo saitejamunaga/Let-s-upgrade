{
 "cells": [
  {
   "cell_type": "markdown",
   "metadata": {},
   "source": [
    "#queston 1:\n",
    "\n",
    "RAINBOW\n"
   ]
  },
  {
   "cell_type": "code",
   "execution_count": 2,
   "metadata": {},
   "outputs": [
    {
     "name": "stdout",
     "output_type": "stream",
     "text": [
      "LETS UPGRADE\n"
     ]
    }
   ],
   "source": [
    "#Question 2\n",
    "print(\"LETS UPGRADE\")"
   ]
  },
  {
   "cell_type": "code",
   "execution_count": 2,
   "metadata": {},
   "outputs": [
    {
     "name": "stdout",
     "output_type": "stream",
     "text": [
      "enter cost of the product:7\n",
      "enter selling price of the product:10\n",
      "profit\n"
     ]
    }
   ],
   "source": [
    "#Question 3\n",
    "cost = int(input(\"enter cost of the product:\"))\n",
    "sprice = int(input(\"enter selling price of the product:\"))\n",
    "if cost < sprice:\n",
    "    print(\"profit\")\n",
    "elif cost > sprice:\n",
    "    print(\"Loss\")\n",
    "else:\n",
    "    print(\"Neither\")"
   ]
  },
  {
   "cell_type": "code",
   "execution_count": 3,
   "metadata": {},
   "outputs": [
    {
     "name": "stdout",
     "output_type": "stream",
     "text": [
      "10\n",
      "5\n",
      "Loss\n"
     ]
    }
   ],
   "source": [
    "#Question 4\n",
    "cost = int(input())\n",
    "sprice = int(input())\n",
    "if cost < sprice:\n",
    "    print(\"profit\")\n",
    "elif cost > sprice:\n",
    "    print(\"Loss\")\n",
    "else:\n",
    "    print(\"Neither\")"
   ]
  },
  {
   "cell_type": "code",
   "execution_count": 4,
   "metadata": {},
   "outputs": [
    {
     "name": "stdout",
     "output_type": "stream",
     "text": [
      "2\n",
      "160\n"
     ]
    }
   ],
   "source": [
    "# Question 5\n",
    "rup = int(input())\n",
    "euro = rup*80\n",
    "print(euro)"
   ]
  }
 ],
 "metadata": {
  "kernelspec": {
   "display_name": "Python 3",
   "language": "python",
   "name": "python3"
  },
  "language_info": {
   "codemirror_mode": {
    "name": "ipython",
    "version": 3
   },
   "file_extension": ".py",
   "mimetype": "text/x-python",
   "name": "python",
   "nbconvert_exporter": "python",
   "pygments_lexer": "ipython3",
   "version": "3.8.3"
  }
 },
 "nbformat": 4,
 "nbformat_minor": 4
}
