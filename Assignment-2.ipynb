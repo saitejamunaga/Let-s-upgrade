{
 "cells": [
  {
   "cell_type": "code",
   "execution_count": 3,
   "metadata": {},
   "outputs": [
    {
     "name": "stdout",
     "output_type": "stream",
     "text": [
      "1\n",
      "2\n",
      "3\n",
      "4\n",
      "5\n",
      "6\n",
      "7\n",
      "8\n",
      "9\n",
      "0\n",
      "[2, 4, 6, 8, 0]\n"
     ]
    }
   ],
   "source": [
    "#question 1\n",
    "l =[]\n",
    "for i in range(10):\n",
    "    x = int(input())\n",
    "    if x%2==0:\n",
    "        l.append(x)\n",
    "print(l)"
   ]
  },
  {
   "cell_type": "code",
   "execution_count": 4,
   "metadata": {},
   "outputs": [
    {
     "name": "stdout",
     "output_type": "stream",
     "text": [
      "[0, 1, 2, 3, 4, 5, 6, 7, 8, 9, 10, 11, 12, 13, 14, 15, 16, 17, 18, 19]\n"
     ]
    }
   ],
   "source": [
    "#question 2\n",
    "\n",
    "l = [x for x in range(20)]\n",
    "print(l)"
   ]
  },
  {
   "cell_type": "code",
   "execution_count": 9,
   "metadata": {},
   "outputs": [
    {
     "name": "stdout",
     "output_type": "stream",
     "text": [
      "4\n",
      "{1: 1, 2: 4, 3: 9, 4: 16}\n"
     ]
    }
   ],
   "source": [
    "# question 3\n",
    "d = {}\n",
    "x = int(input())\n",
    "x = x+1\n",
    "for i in range(1, x):\n",
    "    d[i]=i*i\n",
    "print(d)"
   ]
  },
  {
   "cell_type": "code",
   "execution_count": 8,
   "metadata": {},
   "outputs": [
    {
     "name": "stdout",
     "output_type": "stream",
     "text": [
      "4\n",
      "{1: 1, 2: 4, 3: 9}\n"
     ]
    }
   ],
   "source": [
    "# question 3\n",
    "d = {}\n",
    "x = int(input())\n",
    "x = x+1\n",
    "for i in range(1, x):\n",
    "    d1 = {i:i*i}\n",
    "    d.update(d1)\n",
    "print(d)"
   ]
  },
  {
   "cell_type": "code",
   "execution_count": 24,
   "metadata": {},
   "outputs": [
    {
     "name": "stdout",
     "output_type": "stream",
     "text": [
      "step with direction(UP/DOWN/LEFT/RIGHT):UP 5\n",
      "step with direction(UP/DOWN/LEFT/RIGHT):DOWN 8\n",
      "step with direction(UP/DOWN/LEFT/RIGHT):RIGHT 6\n",
      "step with direction(UP/DOWN/LEFT/RIGHT):LEFT 7\n",
      "step with direction(UP/DOWN/LEFT/RIGHT):\n",
      "3\n"
     ]
    }
   ],
   "source": [
    "import math\n",
    "x, y = 0, 0\n",
    "while True:\n",
    "    s = input(\"step with direction(UP/DOWN/LEFT/RIGHT):\")\n",
    "    if s ==\"\":\n",
    "        break\n",
    "    else:\n",
    "        s = s.split(\" \")\n",
    "        if s[0]==\"UP\":\n",
    "            y = y + int(s[1])\n",
    "        elif s[0] == \"DOWN\":\n",
    "            y = y - int(s[1])\n",
    "        elif s[0] == \"RIGHT\":\n",
    "            x = x + int(s[1])\n",
    "        elif s[0] == \"LEFT\":\n",
    "            x = x - int(s[1])\n",
    "        \n",
    "l = math.sqrt(x**2 + y**2)\n",
    "d = round(l)\n",
    "print(d)\n",
    "            "
   ]
  },
  {
   "cell_type": "code",
   "execution_count": null,
   "metadata": {},
   "outputs": [],
   "source": []
  }
 ],
 "metadata": {
  "kernelspec": {
   "display_name": "Python 3",
   "language": "python",
   "name": "python3"
  },
  "language_info": {
   "codemirror_mode": {
    "name": "ipython",
    "version": 3
   },
   "file_extension": ".py",
   "mimetype": "text/x-python",
   "name": "python",
   "nbconvert_exporter": "python",
   "pygments_lexer": "ipython3",
   "version": "3.8.3"
  }
 },
 "nbformat": 4,
 "nbformat_minor": 4
}
